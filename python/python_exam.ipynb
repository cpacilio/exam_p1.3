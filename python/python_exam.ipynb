{
 "cells": [
  {
   "cell_type": "code",
   "execution_count": 252,
   "metadata": {},
   "outputs": [],
   "source": [
    "import json"
   ]
  },
  {
   "cell_type": "code",
   "execution_count": 1,
   "metadata": {},
   "outputs": [],
   "source": [
    "class PostcardList():\n",
    "    def __init__(self):\n",
    "        self._file = \"default.txt\"\n",
    "        self._postcards = []\n",
    "        self._date = {}\n",
    "        self._from = {}\n",
    "        self._to = {}\n",
    "        \n",
    "    def readFile(self,file):\n",
    "        self._file = file\n",
    "        self._postcards = [line.rstrip(\"\\n\") for line in open(self._file,\"r\")]        \n",
    "        for i in range(len(self._postcards)):\n",
    "            if self._postcards[i].split(\":\")[1].split(\";\")[0] in self._date:\n",
    "                self._date[self._postcards[i].split(\":\")[1].split(\";\")[0]].append(i)\n",
    "            else:\n",
    "                self._date[self._postcards[i].split(\":\")[1].split(\";\")[0]] = [i]  \n",
    "            if self._postcards[i].split(\";\")[1].split(\":\")[1] in self._from:\n",
    "                self._from[self._postcards[i].split(\";\")[1].split(\":\")[1]].append(i)\n",
    "            else:\n",
    "                self._from[self._postcards[i].split(\";\")[1].split(\":\")[1]] = [i]\n",
    "            if self._postcards[i].split(\":\")[-1].split(\";\")[0] in self._to:\n",
    "                self._to[self._postcards[i].split(\":\")[-1].split(\";\")[0]].append(i)\n",
    "            else:\n",
    "                self._to[self._postcards[i].split(\":\")[-1].split(\";\")[0]] = [i]\n",
    "                \n",
    "    def writeFile(self,file):\n",
    "        f = open(file,\"w\")\n",
    "        f.write('Dates:\\n' + json.dumps(self._date) + '\\n\\n')\n",
    "        f.write('Senders:\\n' + json.dumps(self._from) + '\\n\\n')\n",
    "        f.write('Receivers:\\n' + json.dumps(self._to))\n",
    "        f.close()\n",
    "    \n",
    "    def getNumberOfPostcards(self):\n",
    "        return len(self._postcards)"
   ]
  },
  {
   "cell_type": "code",
   "execution_count": 2,
   "metadata": {},
   "outputs": [
    {
     "name": "stdout",
     "output_type": "stream",
     "text": [
      "default.txt\n"
     ]
    }
   ],
   "source": [
    "p = PostcardList()\n",
    "print(p._file)\n",
    "p.readFile(\"./postcards/exam_postcard_list1.txt\")"
   ]
  },
  {
   "cell_type": "code",
   "execution_count": 3,
   "metadata": {},
   "outputs": [
    {
     "data": {
      "text/plain": [
       "14"
      ]
     },
     "execution_count": 3,
     "metadata": {},
     "output_type": "execute_result"
    }
   ],
   "source": [
    "p.getNumberOfPostcards()"
   ]
  },
  {
   "cell_type": "code",
   "execution_count": 4,
   "metadata": {},
   "outputs": [
    {
     "data": {
      "text/plain": [
       "{'Bashful': [0, 7],\n",
       " 'Dopey': [1, 8],\n",
       " 'Huey': [2, 4],\n",
       " '$crooge': [3],\n",
       " 'Minnie': [5],\n",
       " 'Happy': [6],\n",
       " 'Louie': [9],\n",
       " 'Sleepy': [10, 12, 13],\n",
       " 'Doc': [11]}"
      ]
     },
     "execution_count": 4,
     "metadata": {},
     "output_type": "execute_result"
    }
   ],
   "source": [
    "p._from"
   ]
  },
  {
   "cell_type": "code",
   "execution_count": 257,
   "metadata": {},
   "outputs": [],
   "source": [
    "p.writeFile(\"file.txt\")"
   ]
  },
  {
   "cell_type": "code",
   "execution_count": 5,
   "metadata": {},
   "outputs": [
    {
     "data": {
      "text/plain": [
       "{'2017-04-05': [0],\n",
       " '2013-06-19': [1],\n",
       " '2011-07-03': [2],\n",
       " '2015-05-05': [3],\n",
       " '2017-06-15': [4],\n",
       " '2016-01-19': [5],\n",
       " '2013-12-12': [6],\n",
       " '2013-11-25': [7],\n",
       " '2016-08-23': [8],\n",
       " '2011-05-31': [9],\n",
       " '2008-01-31': [10],\n",
       " '2015-10-23': [11],\n",
       " '2014-03-22': [12],\n",
       " '2015-08-01': [13]}"
      ]
     },
     "execution_count": 5,
     "metadata": {},
     "output_type": "execute_result"
    }
   ],
   "source": [
    "p._date"
   ]
  },
  {
   "cell_type": "code",
   "execution_count": 7,
   "metadata": {},
   "outputs": [
    {
     "ename": "TypeError",
     "evalue": "'builtin_function_or_method' object is not subscriptable",
     "output_type": "error",
     "traceback": [
      "\u001b[0;31m---------------------------------------------------------------------------\u001b[0m",
      "\u001b[0;31mTypeError\u001b[0m                                 Traceback (most recent call last)",
      "\u001b[0;32m<ipython-input-7-8aa33b9e165e>\u001b[0m in \u001b[0;36m<module>\u001b[0;34m()\u001b[0m\n\u001b[0;32m----> 1\u001b[0;31m \u001b[0mp\u001b[0m\u001b[0;34m.\u001b[0m\u001b[0m_from\u001b[0m\u001b[0;34m.\u001b[0m\u001b[0mkeys\u001b[0m\u001b[0;34m[\u001b[0m\u001b[0;34m\"0\"\u001b[0m\u001b[0;34m]\u001b[0m\u001b[0;34m\u001b[0m\u001b[0m\n\u001b[0m",
      "\u001b[0;31mTypeError\u001b[0m: 'builtin_function_or_method' object is not subscriptable"
     ]
    }
   ],
   "source": [
    "p._from.keys "
   ]
  }
 ],
 "metadata": {
  "kernelspec": {
   "display_name": "Python 3",
   "language": "python",
   "name": "python3"
  },
  "language_info": {
   "codemirror_mode": {
    "name": "ipython",
    "version": 3
   },
   "file_extension": ".py",
   "mimetype": "text/x-python",
   "name": "python",
   "nbconvert_exporter": "python",
   "pygments_lexer": "ipython3",
   "version": "3.7.0"
  }
 },
 "nbformat": 4,
 "nbformat_minor": 2
}
