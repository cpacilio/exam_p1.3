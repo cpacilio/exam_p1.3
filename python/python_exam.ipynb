{
 "cells": [
  {
   "cell_type": "code",
   "execution_count": 56,
   "metadata": {},
   "outputs": [],
   "source": [
    "import json\n",
    "import datetime"
   ]
  },
  {
   "cell_type": "code",
   "execution_count": 114,
   "metadata": {},
   "outputs": [],
   "source": [
    "class PostcardList():\n",
    "    \n",
    "    def __init__(self):\n",
    "        self._file = \"default.txt\"\n",
    "        self._postcards = []\n",
    "        self._date = {}\n",
    "        self._from = {}\n",
    "        self._to = {}\n",
    "        \n",
    "    def parsePostcards(self):\n",
    "        for i in range(len(self._postcards)):\n",
    "            #datetime.datetime.strptime('2009-02-16', \"%Y-%m-%d\")\n",
    "            a = datetime.datetime.strptime(self._postcards[i].split(\":\")[1].split(\";\")[0],\"%Y-%m-%d\")\n",
    "            if a in self._date:\n",
    "                self._date[a].append(i)\n",
    "            else:\n",
    "                self._date[a] = [i]  \n",
    "            if self._postcards[i].split(\";\")[1].split(\":\")[1] in self._from:\n",
    "                self._from[self._postcards[i].split(\";\")[1].split(\":\")[1]].append(i)\n",
    "            else:\n",
    "                self._from[self._postcards[i].split(\";\")[1].split(\":\")[1]] = [i]\n",
    "            if self._postcards[i].split(\":\")[-1].split(\";\")[0] in self._to:\n",
    "                self._to[self._postcards[i].split(\":\")[-1].split(\";\")[0]].append(i)\n",
    "            else:\n",
    "                self._to[self._postcards[i].split(\":\")[-1].split(\";\")[0]] = [i]\n",
    "        \n",
    "    def readFile(self,file):\n",
    "        self._file = file\n",
    "        self._postcards = [line.rstrip(\"\\n\") for line in open(self._file,\"r\")]\n",
    "        self.parsePostcards()\n",
    "        \n",
    "    def writeFile(self,file):\n",
    "        f = open(file,\"w\")\n",
    "        f.write('Dates:\\n' + json.dumps(self._date) + '\\n\\n')\n",
    "        f.write('Senders:\\n' + json.dumps(self._from) + '\\n\\n')\n",
    "        f.write('Receivers:\\n' + json.dumps(self._to))\n",
    "        f.close()\n",
    "    \n",
    "    def getNumberOfPostcards(self):\n",
    "        return len(self._postcards)\n",
    "    \n",
    "    def getPostcardsBySender(self, sender):\n",
    "        if sender not in self._from:\n",
    "            print(sender, \"is absent.\")\n",
    "        else:\n",
    "            for var in self._from[sender]:\n",
    "                print(self._postcards[var])\n",
    "                \n",
    "    def getPostcardsByReceiver(self, receiver):\n",
    "        if receiver not in self._to:\n",
    "            print(receiver, \"is absent.\")\n",
    "        else:\n",
    "            for var in self._to[receiver]:\n",
    "                print(self._postcards[var])\n",
    "    \n",
    "    def getPostcardsByDateRange(self, date_range):\n",
    "        for d in date_range:\n",
    "            if d not in self._date.keys():\n",
    "                print(\"No postcard was sent on\", d)\n",
    "            else:\n",
    "                l = self._date[d]\n",
    "                for i in len(l):\n",
    "                    print(self._postcards[l[i]])"
   ]
  },
  {
   "cell_type": "code",
   "execution_count": 115,
   "metadata": {},
   "outputs": [
    {
     "name": "stdout",
     "output_type": "stream",
     "text": [
      "default.txt\n"
     ]
    }
   ],
   "source": [
    "p = PostcardList()\n",
    "print(p._file)\n",
    "p.readFile(\"./postcards/exam_postcard_list2.txt\")"
   ]
  },
  {
   "cell_type": "code",
   "execution_count": 116,
   "metadata": {},
   "outputs": [
    {
     "data": {
      "text/plain": [
       "23"
      ]
     },
     "execution_count": 116,
     "metadata": {},
     "output_type": "execute_result"
    }
   ],
   "source": [
    "p.getNumberOfPostcards()"
   ]
  },
  {
   "cell_type": "code",
   "execution_count": 117,
   "metadata": {},
   "outputs": [
    {
     "data": {
      "text/plain": [
       "{'Louie': [0],\n",
       " 'Hook': [1, 8],\n",
       " '$crooge': [2, 18],\n",
       " 'Peter': [3],\n",
       " 'Sleepy': [4],\n",
       " 'Minnie': [5, 17],\n",
       " 'Goofy': [6],\n",
       " 'Dewey': [7, 16],\n",
       " 'SnowWhite': [9],\n",
       " 'Sneezy': [10],\n",
       " 'Dopey': [11, 15],\n",
       " 'Daisy': [12, 13, 14],\n",
       " 'Happy': [19],\n",
       " 'Grumpy': [20],\n",
       " 'Alice': [21],\n",
       " 'Doc': [22]}"
      ]
     },
     "execution_count": 117,
     "metadata": {},
     "output_type": "execute_result"
    }
   ],
   "source": [
    "p._from"
   ]
  },
  {
   "cell_type": "code",
   "execution_count": 53,
   "metadata": {},
   "outputs": [],
   "source": [
    "p.writeFile(\"file.txt\")"
   ]
  },
  {
   "cell_type": "code",
   "execution_count": 118,
   "metadata": {},
   "outputs": [
    {
     "data": {
      "text/plain": [
       "{datetime.datetime(2009, 12, 22, 0, 0): [0],\n",
       " datetime.datetime(2009, 2, 16, 0, 0): [1],\n",
       " datetime.datetime(2008, 1, 2, 0, 0): [2],\n",
       " datetime.datetime(2009, 1, 30, 0, 0): [3],\n",
       " datetime.datetime(2014, 4, 4, 0, 0): [4],\n",
       " datetime.datetime(2012, 9, 6, 0, 0): [5],\n",
       " datetime.datetime(2016, 10, 3, 0, 0): [6],\n",
       " datetime.datetime(2013, 4, 7, 0, 0): [7],\n",
       " datetime.datetime(2011, 7, 23, 0, 0): [8],\n",
       " datetime.datetime(2009, 2, 9, 0, 0): [9],\n",
       " datetime.datetime(2015, 7, 4, 0, 0): [10],\n",
       " datetime.datetime(2015, 4, 6, 0, 0): [11],\n",
       " datetime.datetime(2011, 12, 11, 0, 0): [12],\n",
       " datetime.datetime(2014, 11, 15, 0, 0): [13],\n",
       " datetime.datetime(2011, 11, 15, 0, 0): [14],\n",
       " datetime.datetime(2014, 8, 17, 0, 0): [15],\n",
       " datetime.datetime(2011, 8, 18, 0, 0): [16],\n",
       " datetime.datetime(2015, 1, 31, 0, 0): [17],\n",
       " datetime.datetime(2015, 10, 31, 0, 0): [18],\n",
       " datetime.datetime(2015, 10, 12, 0, 0): [19],\n",
       " datetime.datetime(2009, 9, 4, 0, 0): [20],\n",
       " datetime.datetime(2009, 4, 15, 0, 0): [21],\n",
       " datetime.datetime(2017, 3, 31, 0, 0): [22]}"
      ]
     },
     "execution_count": 118,
     "metadata": {},
     "output_type": "execute_result"
    }
   ],
   "source": [
    "p._date"
   ]
  },
  {
   "cell_type": "code",
   "execution_count": 119,
   "metadata": {},
   "outputs": [
    {
     "name": "stdout",
     "output_type": "stream",
     "text": [
      "date:2009-02-16; from:Hook; to:Goofy;\n",
      "date:2011-12-11; from:Daisy; to:Goofy;\n"
     ]
    }
   ],
   "source": [
    "p.getPostcardsByReceiver(\"Goofy\")"
   ]
  },
  {
   "cell_type": "code",
   "execution_count": 120,
   "metadata": {},
   "outputs": [
    {
     "data": {
      "text/plain": [
       "True"
      ]
     },
     "execution_count": 120,
     "metadata": {},
     "output_type": "execute_result"
    }
   ],
   "source": [
    "date_range = (datetime.datetime.strptime('2008-1-1', \"%Y-%m-%d\"),\\\n",
    "                    datetime.datetime.strptime('2010-12-31', \"%Y-%m-%d\"), datetime.datetime.strptime('2009-02-16', \"%Y-%m-%d\"))\n",
    "#print(date_range)\n",
    "date = datetime.datetime.strptime('2009-02-16', \"%Y-%m-%d\")\n",
    "#a = json.dumps(date)\n",
    "#print(a.split(' ')[0])\n",
    "#'2009-02-16' in p._date.keys()\n",
    "date in date_range\n",
    "#for f in p._date.keys(): print(f)\n",
    "#print(datetime.datetime.strptime('2009-02-16', \"%Y-%m-%d\"))"
   ]
  },
  {
   "cell_type": "code",
   "execution_count": 121,
   "metadata": {},
   "outputs": [
    {
     "name": "stdout",
     "output_type": "stream",
     "text": [
      "No postcard was sent on 2008-01-01 00:00:00\n",
      "No postcard was sent on 2010-12-31 00:00:00\n"
     ]
    },
    {
     "ename": "TypeError",
     "evalue": "'int' object is not iterable",
     "output_type": "error",
     "traceback": [
      "\u001b[0;31m---------------------------------------------------------------------------\u001b[0m",
      "\u001b[0;31mTypeError\u001b[0m                                 Traceback (most recent call last)",
      "\u001b[0;32m<ipython-input-121-caa1e085bcc0>\u001b[0m in \u001b[0;36m<module>\u001b[0;34m()\u001b[0m\n\u001b[0;32m----> 1\u001b[0;31m \u001b[0mp\u001b[0m\u001b[0;34m.\u001b[0m\u001b[0mgetPostcardsByDateRange\u001b[0m\u001b[0;34m(\u001b[0m\u001b[0mdate_range\u001b[0m\u001b[0;34m)\u001b[0m\u001b[0;34m\u001b[0m\u001b[0m\n\u001b[0m",
      "\u001b[0;32m<ipython-input-114-184f081137b3>\u001b[0m in \u001b[0;36mgetPostcardsByDateRange\u001b[0;34m(self, date_range)\u001b[0m\n\u001b[1;32m     60\u001b[0m             \u001b[0;32melse\u001b[0m\u001b[0;34m:\u001b[0m\u001b[0;34m\u001b[0m\u001b[0m\n\u001b[1;32m     61\u001b[0m                 \u001b[0ml\u001b[0m \u001b[0;34m=\u001b[0m \u001b[0mself\u001b[0m\u001b[0;34m.\u001b[0m\u001b[0m_date\u001b[0m\u001b[0;34m[\u001b[0m\u001b[0md\u001b[0m\u001b[0;34m]\u001b[0m\u001b[0;34m\u001b[0m\u001b[0m\n\u001b[0;32m---> 62\u001b[0;31m                 \u001b[0;32mfor\u001b[0m \u001b[0mi\u001b[0m \u001b[0;32min\u001b[0m \u001b[0mlen\u001b[0m\u001b[0;34m(\u001b[0m\u001b[0ml\u001b[0m\u001b[0;34m)\u001b[0m\u001b[0;34m:\u001b[0m\u001b[0;34m\u001b[0m\u001b[0m\n\u001b[0m\u001b[1;32m     63\u001b[0m                     \u001b[0mprint\u001b[0m\u001b[0;34m(\u001b[0m\u001b[0mself\u001b[0m\u001b[0;34m.\u001b[0m\u001b[0m_postcards\u001b[0m\u001b[0;34m[\u001b[0m\u001b[0ml\u001b[0m\u001b[0;34m[\u001b[0m\u001b[0mi\u001b[0m\u001b[0;34m]\u001b[0m\u001b[0;34m]\u001b[0m\u001b[0;34m)\u001b[0m\u001b[0;34m\u001b[0m\u001b[0m\n",
      "\u001b[0;31mTypeError\u001b[0m: 'int' object is not iterable"
     ]
    }
   ],
   "source": [
    "p.getPostcardsByDateRange(date_range)"
   ]
  },
  {
   "cell_type": "code",
   "execution_count": 125,
   "metadata": {},
   "outputs": [
    {
     "data": {
      "text/plain": [
       "{datetime.datetime(2009, 12, 22, 0, 0): [0],\n",
       " datetime.datetime(2009, 2, 16, 0, 0): [1],\n",
       " datetime.datetime(2008, 1, 2, 0, 0): [2],\n",
       " datetime.datetime(2009, 1, 30, 0, 0): [3],\n",
       " datetime.datetime(2014, 4, 4, 0, 0): [4],\n",
       " datetime.datetime(2012, 9, 6, 0, 0): [5],\n",
       " datetime.datetime(2016, 10, 3, 0, 0): [6],\n",
       " datetime.datetime(2013, 4, 7, 0, 0): [7],\n",
       " datetime.datetime(2011, 7, 23, 0, 0): [8],\n",
       " datetime.datetime(2009, 2, 9, 0, 0): [9],\n",
       " datetime.datetime(2015, 7, 4, 0, 0): [10],\n",
       " datetime.datetime(2015, 4, 6, 0, 0): [11],\n",
       " datetime.datetime(2011, 12, 11, 0, 0): [12],\n",
       " datetime.datetime(2014, 11, 15, 0, 0): [13],\n",
       " datetime.datetime(2011, 11, 15, 0, 0): [14],\n",
       " datetime.datetime(2014, 8, 17, 0, 0): [15],\n",
       " datetime.datetime(2011, 8, 18, 0, 0): [16],\n",
       " datetime.datetime(2015, 1, 31, 0, 0): [17],\n",
       " datetime.datetime(2015, 10, 31, 0, 0): [18],\n",
       " datetime.datetime(2015, 10, 12, 0, 0): [19],\n",
       " datetime.datetime(2009, 9, 4, 0, 0): [20],\n",
       " datetime.datetime(2009, 4, 15, 0, 0): [21],\n",
       " datetime.datetime(2017, 3, 31, 0, 0): [22]}"
      ]
     },
     "execution_count": 125,
     "metadata": {},
     "output_type": "execute_result"
    }
   ],
   "source": [
    "p._date"
   ]
  },
  {
   "cell_type": "code",
   "execution_count": null,
   "metadata": {},
   "outputs": [],
   "source": []
  }
 ],
 "metadata": {
  "kernelspec": {
   "display_name": "Python 3",
   "language": "python",
   "name": "python3"
  },
  "language_info": {
   "codemirror_mode": {
    "name": "ipython",
    "version": 3
   },
   "file_extension": ".py",
   "mimetype": "text/x-python",
   "name": "python",
   "nbconvert_exporter": "python",
   "pygments_lexer": "ipython3",
   "version": "3.7.0"
  }
 },
 "nbformat": 4,
 "nbformat_minor": 2
}
