{
 "cells": [
  {
   "cell_type": "code",
   "execution_count": 242,
   "metadata": {},
   "outputs": [],
   "source": [
    "class PostcardList():\n",
    "    def __init__(self):\n",
    "        self._file = \"default.txt\"\n",
    "        self._postcards = []\n",
    "        self._date = {}\n",
    "        self._from = {}\n",
    "        self._to = {}\n",
    "        \n",
    "    def readFile(self,file):\n",
    "        self._file = file\n",
    "        self._postcards = [line.rstrip(\"\\n\") for line in open(self._file,\"r\")]        \n",
    "        for i in range(len(self._postcards)):\n",
    "            if self._postcards[i].split(\":\")[1].split(\";\")[0] in self._date:\n",
    "                self._date[self._postcards[i].split(\":\")[1].split(\";\")[0]].append(i)\n",
    "            else:\n",
    "                self._date[self._postcards[i].split(\":\")[1].split(\";\")[0]] = [i]  \n",
    "            if self._postcards[i].split(\";\")[1].split(\":\")[1] in self._from:\n",
    "                self._from[self._postcards[i].split(\";\")[1].split(\":\")[1]].append(i)\n",
    "            else:\n",
    "                self._from[self._postcards[i].split(\";\")[1].split(\":\")[1]] = [i]\n",
    "            if self._postcards[i].split(\":\")[-1].split(\";\")[0] in self._to:\n",
    "                self._to[self._postcards[i].split(\":\")[-1].split(\";\")[0]].append(i)\n",
    "            else:\n",
    "                self._to[self._postcards[i].split(\":\")[-1].split(\";\")[0]] = [i]\n",
    "                \n",
    "    def writeFile(self,file):\n",
    "        f = open(file,\"w\")\n",
    "        import json\n",
    "        f.write('Dates:\\n' + json.dumps(self._date) + '\\n\\n')\n",
    "        f.write('Senders:\\n' + json.dumps(self._from) + '\\n\\n')\n",
    "        f.write('Receivers:\\n' + json.dumps(self._to))\n",
    "        f.close()\n",
    "    \n",
    "    def getNumberOfPostcards(self):\n",
    "        return len(self._postcards)"
   ]
  },
  {
   "cell_type": "code",
   "execution_count": 243,
   "metadata": {},
   "outputs": [
    {
     "name": "stdout",
     "output_type": "stream",
     "text": [
      "default.txt\n"
     ]
    }
   ],
   "source": [
    "p = PostcardList()\n",
    "print(p._file)\n",
    "p.readFile(\"./postcards/exam_postcard_list1.txt\")"
   ]
  },
  {
   "cell_type": "code",
   "execution_count": 244,
   "metadata": {},
   "outputs": [
    {
     "data": {
      "text/plain": [
       "14"
      ]
     },
     "execution_count": 244,
     "metadata": {},
     "output_type": "execute_result"
    }
   ],
   "source": [
    "p.getNumberOfPostcards()"
   ]
  },
  {
   "cell_type": "code",
   "execution_count": 245,
   "metadata": {},
   "outputs": [
    {
     "data": {
      "text/plain": [
       "{'Bashful': [0, 7],\n",
       " 'Dopey': [1, 8],\n",
       " 'Huey': [2, 4],\n",
       " '$crooge': [3],\n",
       " 'Minnie': [5],\n",
       " 'Happy': [6],\n",
       " 'Louie': [9],\n",
       " 'Sleepy': [10, 12, 13],\n",
       " 'Doc': [11]}"
      ]
     },
     "execution_count": 245,
     "metadata": {},
     "output_type": "execute_result"
    }
   ],
   "source": [
    "p._from"
   ]
  },
  {
   "cell_type": "code",
   "execution_count": 246,
   "metadata": {},
   "outputs": [],
   "source": [
    "p.writeFile(\"file.txt\")"
   ]
  },
  {
   "cell_type": "code",
   "execution_count": null,
   "metadata": {},
   "outputs": [],
   "source": [
    "list = []"
   ]
  }
 ],
 "metadata": {
  "kernelspec": {
   "display_name": "Python 3",
   "language": "python",
   "name": "python3"
  },
  "language_info": {
   "codemirror_mode": {
    "name": "ipython",
    "version": 3
   },
   "file_extension": ".py",
   "mimetype": "text/x-python",
   "name": "python",
   "nbconvert_exporter": "python",
   "pygments_lexer": "ipython3",
   "version": "3.7.0"
  }
 },
 "nbformat": 4,
 "nbformat_minor": 2
}
