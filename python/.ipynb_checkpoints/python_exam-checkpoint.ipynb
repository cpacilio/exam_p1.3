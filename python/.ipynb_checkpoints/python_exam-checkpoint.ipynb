{
 "cells": [
  {
   "cell_type": "code",
   "execution_count": 3,
   "metadata": {},
   "outputs": [],
   "source": [
    "import json\n",
    "import datetime"
   ]
  },
  {
   "cell_type": "code",
   "execution_count": 17,
   "metadata": {},
   "outputs": [],
   "source": [
    "class PostcardList():\n",
    "    \n",
    "    def __init__(self):\n",
    "        self._file = \"default.txt\"\n",
    "        self._postcards = []\n",
    "        self._date = {}\n",
    "        self._from = {}\n",
    "        self._to = {}\n",
    "        \n",
    "    def parsePostcards(self):\n",
    "        for i in range(len(self._postcards)):\n",
    "            #datetime.datetime.strptime('2009-02-16', \"%Y-%m-%d\")\n",
    "            a = datetime.datetime.strptime(self._postcards[i].split(\":\")[1].split(\";\")[0],\"%Y-%m-%d\")\n",
    "            if a in self._date:\n",
    "                self._date[a].append(i)\n",
    "            else:\n",
    "                self._date[a] = [i]  \n",
    "            if self._postcards[i].split(\";\")[1].split(\":\")[1] in self._from:\n",
    "                self._from[self._postcards[i].split(\";\")[1].split(\":\")[1]].append(i)\n",
    "            else:\n",
    "                self._from[self._postcards[i].split(\";\")[1].split(\":\")[1]] = [i]\n",
    "            if self._postcards[i].split(\":\")[-1].split(\";\")[0] in self._to:\n",
    "                self._to[self._postcards[i].split(\":\")[-1].split(\";\")[0]].append(i)\n",
    "            else:\n",
    "                self._to[self._postcards[i].split(\":\")[-1].split(\";\")[0]] = [i]\n",
    "        \n",
    "    def readFile(self,file):\n",
    "        self._file = file\n",
    "        self._postcards = [line.rstrip(\"\\n\") for line in open(self._file,\"r\")]\n",
    "        self.parsePostcards()\n",
    "        \n",
    "    def writeFile(self,file):\n",
    "        f = open(file,\"w\")\n",
    "        for it in self._postcards:\n",
    "            f.write(it+\"\\n\")\n",
    "        f.close()\n",
    "    \n",
    "    def getNumberOfPostcards(self):\n",
    "        return len(self._postcards)\n",
    "    \n",
    "    def getPostcardsBySender(self, sender):\n",
    "        if sender not in self._from:\n",
    "            print(sender, \"is absent.\")\n",
    "        else:\n",
    "            for var in self._from[sender]:\n",
    "                print(self._postcards[var])\n",
    "                \n",
    "    def getPostcardsByReceiver(self, receiver):\n",
    "        if receiver not in self._to:\n",
    "            print(receiver, \"is absent.\")\n",
    "        else:\n",
    "            for var in self._to[receiver]:\n",
    "                print(self._postcards[var])\n",
    "    \n",
    "    def getPostcardsByDateRange(self, date_range):\n",
    "        for d in date_range:\n",
    "            if d not in self._date.keys():\n",
    "                print(\"No postcard was sent on\", d)\n",
    "            else:\n",
    "                l = self._date[d]\n",
    "                for i in l:\n",
    "                    print(self._postcards[i])"
   ]
  },
  {
   "cell_type": "code",
   "execution_count": 18,
   "metadata": {},
   "outputs": [
    {
     "name": "stdout",
     "output_type": "stream",
     "text": [
      "default.txt\n"
     ]
    }
   ],
   "source": [
    "p = PostcardList()\n",
    "print(p._file)\n",
    "p.readFile(\"./postcards/exam_postcard_list2.txt\")"
   ]
  },
  {
   "cell_type": "code",
   "execution_count": 19,
   "metadata": {},
   "outputs": [
    {
     "data": {
      "text/plain": [
       "23"
      ]
     },
     "execution_count": 19,
     "metadata": {},
     "output_type": "execute_result"
    }
   ],
   "source": [
    "p.getNumberOfPostcards()"
   ]
  },
  {
   "cell_type": "code",
   "execution_count": 20,
   "metadata": {},
   "outputs": [],
   "source": [
    "p.writeFile(\"file.txt\")"
   ]
  },
  {
   "cell_type": "code",
   "execution_count": 21,
   "metadata": {},
   "outputs": [
    {
     "name": "stdout",
     "output_type": "stream",
     "text": [
      "date:2009-02-16; from:Hook; to:Goofy;\n",
      "date:2011-12-11; from:Daisy; to:Goofy;\n"
     ]
    }
   ],
   "source": [
    "p.getPostcardsByReceiver(\"Goofy\")"
   ]
  },
  {
   "cell_type": "code",
   "execution_count": 22,
   "metadata": {},
   "outputs": [
    {
     "name": "stdout",
     "output_type": "stream",
     "text": [
      "No postcard was sent on 2008-01-01 00:00:00\n",
      "No postcard was sent on 2010-12-31 00:00:00\n"
     ]
    }
   ],
   "source": [
    "date_range=(datetime.datetime.strptime('2008-1-1', \"%Y-%m-%d\"),datetime.datetime.strptime('2010-12-31', \"%Y-%m-%d\"))\n",
    "p.getPostcardsByDateRange(date_range)"
   ]
  }
 ],
 "metadata": {
  "kernelspec": {
   "display_name": "Python 3",
   "language": "python",
   "name": "python3"
  },
  "language_info": {
   "codemirror_mode": {
    "name": "ipython",
    "version": 3
   },
   "file_extension": ".py",
   "mimetype": "text/x-python",
   "name": "python",
   "nbconvert_exporter": "python",
   "pygments_lexer": "ipython3",
   "version": "3.7.0"
  }
 },
 "nbformat": 4,
 "nbformat_minor": 2
}
