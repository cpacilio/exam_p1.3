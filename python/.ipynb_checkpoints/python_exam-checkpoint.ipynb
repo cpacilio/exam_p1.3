{
 "cells": [
  {
   "cell_type": "code",
   "execution_count": 56,
   "metadata": {},
   "outputs": [],
   "source": [
    "import json\n",
    "import datetime"
   ]
  },
  {
   "cell_type": "code",
   "execution_count": 74,
   "metadata": {},
   "outputs": [],
   "source": [
    "class PostcardList():\n",
    "    \n",
    "    def __init__(self):\n",
    "        self._file = \"default.txt\"\n",
    "        self._postcards = []\n",
    "        self._date = {}\n",
    "        self._from = {}\n",
    "        self._to = {}\n",
    "        \n",
    "    def parsePostcards(self):\n",
    "        for i in range(len(self._postcards)):\n",
    "            if self._postcards[i].split(\":\")[1].split(\";\")[0] in self._date:\n",
    "                self._date[self._postcards[i].split(\":\")[1].split(\";\")[0]].append(i)\n",
    "            else:\n",
    "                self._date[self._postcards[i].split(\":\")[1].split(\";\")[0]] = [i]  \n",
    "            if self._postcards[i].split(\";\")[1].split(\":\")[1] in self._from:\n",
    "                self._from[self._postcards[i].split(\";\")[1].split(\":\")[1]].append(i)\n",
    "            else:\n",
    "                self._from[self._postcards[i].split(\";\")[1].split(\":\")[1]] = [i]\n",
    "            if self._postcards[i].split(\":\")[-1].split(\";\")[0] in self._to:\n",
    "                self._to[self._postcards[i].split(\":\")[-1].split(\";\")[0]].append(i)\n",
    "            else:\n",
    "                self._to[self._postcards[i].split(\":\")[-1].split(\";\")[0]] = [i]\n",
    "        \n",
    "    def readFile(self,file):\n",
    "        self._file = file\n",
    "        self._postcards = [line.rstrip(\"\\n\") for line in open(self._file,\"r\")]\n",
    "        self.parsePostcards()\n",
    "        \n",
    "    def writeFile(self,file):\n",
    "        f = open(file,\"w\")\n",
    "        f.write('Dates:\\n' + json.dumps(self._date) + '\\n\\n')\n",
    "        f.write('Senders:\\n' + json.dumps(self._from) + '\\n\\n')\n",
    "        f.write('Receivers:\\n' + json.dumps(self._to))\n",
    "        f.close()\n",
    "    \n",
    "    def getNumberOfPostcards(self):\n",
    "        return len(self._postcards)\n",
    "    \n",
    "    def getPostcardsBySender(self, sender):\n",
    "        if sender not in self._from:\n",
    "            print(sender, \"is absent.\")\n",
    "        else:\n",
    "            for var in self._from[sender]:\n",
    "                print(self._postcards[var])\n",
    "                \n",
    "    def getPostcardsByReceiver(self, receiver):\n",
    "        if receiver not in self._to:\n",
    "            print(receiver, \"is absent.\")\n",
    "        else:\n",
    "            for var in self._to[receiver]:\n",
    "                print(self._postcards[var])\n",
    "    \n",
    "    def getPostcardsByDateRange(self, date_range):\n",
    "        for d in date_range:\n",
    "            if d not in self._date.keys():\n",
    "                print(\"No postcard was sent on\", d)\n",
    "            else:\n",
    "                l = self._date[d]\n",
    "                for i in len(l):\n",
    "                    print(self._postcards[l[i]])"
   ]
  },
  {
   "cell_type": "code",
   "execution_count": 75,
   "metadata": {},
   "outputs": [
    {
     "name": "stdout",
     "output_type": "stream",
     "text": [
      "default.txt\n"
     ]
    }
   ],
   "source": [
    "p = PostcardList()\n",
    "print(p._file)\n",
    "p.readFile(\"./postcards/exam_postcard_list2.txt\")"
   ]
  },
  {
   "cell_type": "code",
   "execution_count": 69,
   "metadata": {},
   "outputs": [
    {
     "data": {
      "text/plain": [
       "23"
      ]
     },
     "execution_count": 69,
     "metadata": {},
     "output_type": "execute_result"
    }
   ],
   "source": [
    "p.getNumberOfPostcards()"
   ]
  },
  {
   "cell_type": "code",
   "execution_count": 70,
   "metadata": {},
   "outputs": [
    {
     "data": {
      "text/plain": [
       "{'Louie': [0],\n",
       " 'Hook': [1, 8],\n",
       " '$crooge': [2, 18],\n",
       " 'Peter': [3],\n",
       " 'Sleepy': [4],\n",
       " 'Minnie': [5, 17],\n",
       " 'Goofy': [6],\n",
       " 'Dewey': [7, 16],\n",
       " 'SnowWhite': [9],\n",
       " 'Sneezy': [10],\n",
       " 'Dopey': [11, 15],\n",
       " 'Daisy': [12, 13, 14],\n",
       " 'Happy': [19],\n",
       " 'Grumpy': [20],\n",
       " 'Alice': [21],\n",
       " 'Doc': [22]}"
      ]
     },
     "execution_count": 70,
     "metadata": {},
     "output_type": "execute_result"
    }
   ],
   "source": [
    "p._from"
   ]
  },
  {
   "cell_type": "code",
   "execution_count": 53,
   "metadata": {},
   "outputs": [],
   "source": [
    "p.writeFile(\"file.txt\")"
   ]
  },
  {
   "cell_type": "code",
   "execution_count": 71,
   "metadata": {},
   "outputs": [
    {
     "data": {
      "text/plain": [
       "{'2009-12-22': [0],\n",
       " '2009-02-16': [1],\n",
       " '2008-01-02': [2],\n",
       " '2009-01-30': [3],\n",
       " '2014-04-04': [4],\n",
       " '2012-09-06': [5],\n",
       " '2016-10-03': [6],\n",
       " '2013-04-07': [7],\n",
       " '2011-07-23': [8],\n",
       " '2009-02-09': [9],\n",
       " '2015-07-04': [10],\n",
       " '2015-04-06': [11],\n",
       " '2011-12-11': [12],\n",
       " '2014-11-15': [13],\n",
       " '2011-11-15': [14],\n",
       " '2014-08-17': [15],\n",
       " '2011-08-18': [16],\n",
       " '2015-01-31': [17],\n",
       " '2015-10-31': [18],\n",
       " '2015-10-12': [19],\n",
       " '2009-09-04': [20],\n",
       " '2009-04-15': [21],\n",
       " '2017-03-31': [22]}"
      ]
     },
     "execution_count": 71,
     "metadata": {},
     "output_type": "execute_result"
    }
   ],
   "source": [
    "p._date"
   ]
  },
  {
   "cell_type": "code",
   "execution_count": 73,
   "metadata": {},
   "outputs": [
    {
     "name": "stdout",
     "output_type": "stream",
     "text": [
      "date:2009-02-16; from:Hook; to:Goofy;\n",
      "date:2011-12-11; from:Daisy; to:Goofy;\n"
     ]
    }
   ],
   "source": [
    "p.getPostcardsByReceiver(\"Goofy\")"
   ]
  },
  {
   "cell_type": "code",
   "execution_count": 104,
   "metadata": {},
   "outputs": [
    {
     "name": "stdout",
     "output_type": "stream",
     "text": [
      "2009-02-16 00:00:00\n"
     ]
    }
   ],
   "source": [
    "date_range = (datetime.datetime.strptime('2008-1-1', \"%Y-%m-%d\"),\\\n",
    "                    datetime.datetime.strptime('2010-12-31', \"%Y-%m-%d\"), datetime.datetime.strptime('2009-02-16', \"%Y-%m-%d\"))\n",
    "#print(date_range)\n",
    "date = datetime.datetime.strptime('2009-02-16', \"%Y-%m-%d\")\n",
    "#a = json.dumps(date)\n",
    "#print(a.split(' ')[0])\n",
    "#'2009-02-16' in p._date.keys()\n",
    "#date in date_range\n",
    "#for f in p._date.keys(): print(f)\n",
    "print(datetime.datetime.strptime('2009-02-16', \"%Y-%m-%d\"))"
   ]
  },
  {
   "cell_type": "code",
   "execution_count": 82,
   "metadata": {},
   "outputs": [
    {
     "name": "stdout",
     "output_type": "stream",
     "text": [
      "No postcard was sent on 2008-01-01 00:00:00\n",
      "No postcard was sent on 2010-12-31 00:00:00\n",
      "No postcard was sent on 2009-02-16 00:00:00\n"
     ]
    }
   ],
   "source": [
    "p.getPostcardsByDateRange(date_range)"
   ]
  }
 ],
 "metadata": {
  "kernelspec": {
   "display_name": "Python 3",
   "language": "python",
   "name": "python3"
  },
  "language_info": {
   "codemirror_mode": {
    "name": "ipython",
    "version": 3
   },
   "file_extension": ".py",
   "mimetype": "text/x-python",
   "name": "python",
   "nbconvert_exporter": "python",
   "pygments_lexer": "ipython3",
   "version": "3.7.0"
  }
 },
 "nbformat": 4,
 "nbformat_minor": 2
}
