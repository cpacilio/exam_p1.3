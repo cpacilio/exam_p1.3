{
 "cells": [
  {
   "cell_type": "code",
   "execution_count": 97,
   "metadata": {},
   "outputs": [],
   "source": [
    "class PostcardList():\n",
    "    def __init__(self,file):\n",
    "        self._file = file\n",
    "        self._postcards = [line.rstrip(\"\\n\") for line in open(self._file,\"r+\")]        \n",
    "        self._date = {}\n",
    "        self._from = {}\n",
    "        self._to = {}\n",
    "        for i in range(len(self._postcards)):\n",
    "            if self._postcards[i].split(\":\")[1].split(\";\")[0] in self._date:\n",
    "                self._date[self._postcards[i].split(\":\")[1].split(\";\")[0]].append(i)\n",
    "            else:\n",
    "                self._date[self._postcards[i].split(\":\")[1].split(\";\")[0]] = [i]  \n",
    "            if self._postcards[i].split(\";\")[1].split(\":\")[1] in self._from:\n",
    "                self._from[self._postcards[i].split(\";\")[1].split(\":\")[1]].append(i)\n",
    "            else:\n",
    "                self._from[self._postcards[i].split(\";\")[1].split(\":\")[1]] = [i]\n",
    "            if self._postcards[i].split(\":\")[-1].split(\";\")[0] in self._to:\n",
    "                self._to[self._postcards[i].split(\":\")[-1].split(\";\")[0]].append(i)\n",
    "            else:\n",
    "                self._to[self._postcards[i].split(\":\")[-1].split(\";\")[0]] = [i]\n",
    "    \n",
    "    #def readFile(file):"
   ]
  },
  {
   "cell_type": "code",
   "execution_count": 98,
   "metadata": {},
   "outputs": [],
   "source": [
    "p = PostcardList(\"./postcards/exam_postcard_list0.txt\")"
   ]
  },
  {
   "cell_type": "code",
   "execution_count": 99,
   "metadata": {},
   "outputs": [
    {
     "data": {
      "text/plain": [
       "{'Happy': [0, 7],\n",
       " 'Pluto': [1, 15, 16],\n",
       " 'Dopey': [2],\n",
       " 'Hook': [3],\n",
       " 'Huey': [4],\n",
       " 'Alice': [5, 13],\n",
       " 'Grumpy': [6, 10],\n",
       " 'Minnie': [8],\n",
       " 'Peter': [9],\n",
       " 'Dewey': [11],\n",
       " '$crooge': [12],\n",
       " 'Sneezy': [14],\n",
       " 'Donald': [17],\n",
       " 'Louie': [18]}"
      ]
     },
     "execution_count": 99,
     "metadata": {},
     "output_type": "execute_result"
    }
   ],
   "source": [
    "p._to"
   ]
  },
  {
   "cell_type": "code",
   "execution_count": null,
   "metadata": {},
   "outputs": [],
   "source": []
  },
  {
   "cell_type": "code",
   "execution_count": null,
   "metadata": {},
   "outputs": [],
   "source": []
  }
 ],
 "metadata": {
  "kernelspec": {
   "display_name": "Python 3",
   "language": "python",
   "name": "python3"
  },
  "language_info": {
   "codemirror_mode": {
    "name": "ipython",
    "version": 3
   },
   "file_extension": ".py",
   "mimetype": "text/x-python",
   "name": "python",
   "nbconvert_exporter": "python",
   "pygments_lexer": "ipython3",
   "version": "3.7.0"
  }
 },
 "nbformat": 4,
 "nbformat_minor": 2
}
